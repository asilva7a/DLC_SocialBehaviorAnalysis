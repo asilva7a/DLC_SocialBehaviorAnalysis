{
 "cells": [
  {
   "cell_type": "code",
   "execution_count": null,
   "metadata": {},
   "outputs": [],
   "source": [
    "\n",
    "import sys\n",
    "import os \n",
    "sys.path.append('..')  #adds the Root Directory to the system path\n",
    "from DLC_SocialApproachAnalysis.approach_analysis_methods import ApproachAnalysis"
   ]
  },
  {
   "cell_type": "code",
   "execution_count": null,
   "metadata": {},
   "outputs": [],
   "source": [
    "print(sys.executable) #print the path of the Python executable being used, which should point to the Python interpreter in your Conda environment."
   ]
  },
  {
   "cell_type": "code",
   "execution_count": null,
   "metadata": {},
   "outputs": [],
   "source": [
    "project_folder = 'C:\\Users\\adsil\\Documents' #path to the folder containing the raw data to be analyzed (i.e. the folder containing the folders for each experiment)\n",
    "analysis = ApproachAnalysis(project_folder)\n",
    "\n",
    "print(analysis.directory_df)\n",
    "analysis.directory_df"
   ]
  }
 ],
 "metadata": {
  "kernelspec": {
   "display_name": "DLC_SocialApproach",
   "language": "python",
   "name": "python3"
  },
  "language_info": {
   "codemirror_mode": {
    "name": "ipython",
    "version": 3
   },
   "file_extension": ".py",
   "mimetype": "text/x-python",
   "name": "python",
   "nbconvert_exporter": "python",
   "pygments_lexer": "ipython3",
   "version": "3.8.18"
  }
 },
 "nbformat": 4,
 "nbformat_minor": 2
}
