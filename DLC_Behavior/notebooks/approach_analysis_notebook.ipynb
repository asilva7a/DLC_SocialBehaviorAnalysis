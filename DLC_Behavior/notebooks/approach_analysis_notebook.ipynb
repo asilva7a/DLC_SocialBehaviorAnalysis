{
 "cells": [
  {
   "cell_type": "code",
   "execution_count": 1,
   "metadata": {},
   "outputs": [],
   "source": [
    "import sys\n",
    "import os \n",
    "sys.path.append('..')  #adds the Root Directory to the system path\n",
    "from DLC_SocialApproachAnalysis.approach_analysis_methods import ApproachAnalysis_Organizer"
   ]
  },
  {
   "cell_type": "code",
   "execution_count": 2,
   "metadata": {},
   "outputs": [],
   "source": [
    "project_folder = r'C:\\Users\\adsil\\Documents\\ShrekData' #path to the folder containing the raw data to be analyzed (i.e. the folder containing the folders for each experiment)\n",
    "analysis = ApproachAnalysis_Organizer(project_folder)"
   ]
  },
  {
   "cell_type": "code",
   "execution_count": 3,
   "metadata": {},
   "outputs": [
    {
     "name": "stdout",
     "output_type": "stream",
     "text": [
      "['C:\\\\Users\\\\adsil\\\\Documents\\\\ShrekData\\\\SOC DAY3_1-3726_F_Trial5.mp4', 'C:\\\\Users\\\\adsil\\\\Documents\\\\ShrekData\\\\SOC DAY3_1-3726_F_Trial5DLC_resnet50_topdown_homecage_novelobjectJul9shuffle1_190000.csv', 'C:\\\\Users\\\\adsil\\\\Documents\\\\ShrekData\\\\SOC DAY3_1-3726_F_Trial5DLC_resnet50_topdown_homecage_novelobjectJul9shuffle1_190000.h5', 'C:\\\\Users\\\\adsil\\\\Documents\\\\ShrekData\\\\SOC DAY3_1-3726_F_Trial5DLC_resnet50_topdown_homecage_novelobjectJul9shuffle1_190000_filtered.csv', 'C:\\\\Users\\\\adsil\\\\Documents\\\\ShrekData\\\\SOC DAY3_1-3726_F_Trial5DLC_resnet50_topdown_homecage_novelobjectJul9shuffle1_190000_filtered.h5', 'C:\\\\Users\\\\adsil\\\\Documents\\\\ShrekData\\\\SOC DAY3_1-3726_F_Trial5DLC_resnet50_topdown_homecage_novelobjectJul9shuffle1_190000_meta.pickle', 'C:\\\\Users\\\\adsil\\\\Documents\\\\ShrekData\\\\SOC DAY3_1-3938_F_Trial9.mp4', 'C:\\\\Users\\\\adsil\\\\Documents\\\\ShrekData\\\\SOC DAY3_1-3938_F_Trial9DLC_resnet50_topdown_homecage_novelobjectJul9shuffle1_190000.csv', 'C:\\\\Users\\\\adsil\\\\Documents\\\\ShrekData\\\\SOC DAY3_1-3938_F_Trial9DLC_resnet50_topdown_homecage_novelobjectJul9shuffle1_190000.h5', 'C:\\\\Users\\\\adsil\\\\Documents\\\\ShrekData\\\\SOC DAY3_1-3938_F_Trial9DLC_resnet50_topdown_homecage_novelobjectJul9shuffle1_190000_filtered.csv', 'C:\\\\Users\\\\adsil\\\\Documents\\\\ShrekData\\\\SOC DAY3_1-3938_F_Trial9DLC_resnet50_topdown_homecage_novelobjectJul9shuffle1_190000_filtered.h5', 'C:\\\\Users\\\\adsil\\\\Documents\\\\ShrekData\\\\SOC DAY3_1-3938_F_Trial9DLC_resnet50_topdown_homecage_novelobjectJul9shuffle1_190000_meta.pickle', 'C:\\\\Users\\\\adsil\\\\Documents\\\\ShrekData\\\\SOC DAY3_2-2928_M_Trial3.mp4', 'C:\\\\Users\\\\adsil\\\\Documents\\\\ShrekData\\\\SOC DAY3_2-2928_M_Trial3DLC_resnet50_topdown_homecage_novelobjectJul9shuffle1_190000.csv', 'C:\\\\Users\\\\adsil\\\\Documents\\\\ShrekData\\\\SOC DAY3_2-2928_M_Trial3DLC_resnet50_topdown_homecage_novelobjectJul9shuffle1_190000.h5', 'C:\\\\Users\\\\adsil\\\\Documents\\\\ShrekData\\\\SOC DAY3_2-2928_M_Trial3DLC_resnet50_topdown_homecage_novelobjectJul9shuffle1_190000_filtered.csv', 'C:\\\\Users\\\\adsil\\\\Documents\\\\ShrekData\\\\SOC DAY3_2-2928_M_Trial3DLC_resnet50_topdown_homecage_novelobjectJul9shuffle1_190000_filtered.h5', 'C:\\\\Users\\\\adsil\\\\Documents\\\\ShrekData\\\\SOC DAY3_2-2928_M_Trial3DLC_resnet50_topdown_homecage_novelobjectJul9shuffle1_190000_meta.pickle', 'C:\\\\Users\\\\adsil\\\\Documents\\\\ShrekData\\\\SOC DAY3_2-3939_F_Trial8.mp4', 'C:\\\\Users\\\\adsil\\\\Documents\\\\ShrekData\\\\SOC DAY3_2-3939_F_Trial8DLC_resnet50_topdown_homecage_novelobjectJul9shuffle1_190000.csv', 'C:\\\\Users\\\\adsil\\\\Documents\\\\ShrekData\\\\SOC DAY3_2-3939_F_Trial8DLC_resnet50_topdown_homecage_novelobjectJul9shuffle1_190000.h5', 'C:\\\\Users\\\\adsil\\\\Documents\\\\ShrekData\\\\SOC DAY3_2-3939_F_Trial8DLC_resnet50_topdown_homecage_novelobjectJul9shuffle1_190000_filtered.csv', 'C:\\\\Users\\\\adsil\\\\Documents\\\\ShrekData\\\\SOC DAY3_2-3939_F_Trial8DLC_resnet50_topdown_homecage_novelobjectJul9shuffle1_190000_filtered.h5', 'C:\\\\Users\\\\adsil\\\\Documents\\\\ShrekData\\\\SOC DAY3_2-3939_F_Trial8DLC_resnet50_topdown_homecage_novelobjectJul9shuffle1_190000_meta.pickle', 'C:\\\\Users\\\\adsil\\\\Documents\\\\ShrekData\\\\SOC DAY3_3-3728_F_Trial6.mp4', 'C:\\\\Users\\\\adsil\\\\Documents\\\\ShrekData\\\\SOC DAY3_3-3728_F_Trial6DLC_resnet50_topdown_homecage_novelobjectJul9shuffle1_190000.csv', 'C:\\\\Users\\\\adsil\\\\Documents\\\\ShrekData\\\\SOC DAY3_3-3728_F_Trial6DLC_resnet50_topdown_homecage_novelobjectJul9shuffle1_190000.h5', 'C:\\\\Users\\\\adsil\\\\Documents\\\\ShrekData\\\\SOC DAY3_3-3728_F_Trial6DLC_resnet50_topdown_homecage_novelobjectJul9shuffle1_190000_filtered.csv', 'C:\\\\Users\\\\adsil\\\\Documents\\\\ShrekData\\\\SOC DAY3_3-3728_F_Trial6DLC_resnet50_topdown_homecage_novelobjectJul9shuffle1_190000_filtered.h5', 'C:\\\\Users\\\\adsil\\\\Documents\\\\ShrekData\\\\SOC DAY3_3-3728_F_Trial6DLC_resnet50_topdown_homecage_novelobjectJul9shuffle1_190000_meta.pickle', 'C:\\\\Users\\\\adsil\\\\Documents\\\\ShrekData\\\\SOC DAY3_4-3729_F_Trial7.mp4', 'C:\\\\Users\\\\adsil\\\\Documents\\\\ShrekData\\\\SOC DAY3_4-3729_F_Trial7DLC_resnet50_topdown_homecage_novelobjectJul9shuffle1_190000.csv', 'C:\\\\Users\\\\adsil\\\\Documents\\\\ShrekData\\\\SOC DAY3_4-3729_F_Trial7DLC_resnet50_topdown_homecage_novelobjectJul9shuffle1_190000.h5', 'C:\\\\Users\\\\adsil\\\\Documents\\\\ShrekData\\\\SOC DAY3_4-3729_F_Trial7DLC_resnet50_topdown_homecage_novelobjectJul9shuffle1_190000_filtered.csv', 'C:\\\\Users\\\\adsil\\\\Documents\\\\ShrekData\\\\SOC DAY3_4-3729_F_Trial7DLC_resnet50_topdown_homecage_novelobjectJul9shuffle1_190000_filtered.h5', 'C:\\\\Users\\\\adsil\\\\Documents\\\\ShrekData\\\\SOC DAY3_4-3729_F_Trial7DLC_resnet50_topdown_homecage_novelobjectJul9shuffle1_190000_meta.pickle', 'C:\\\\Users\\\\adsil\\\\Documents\\\\ShrekData\\\\SOC DAY3_5-3730_M_Trial1.mp4', 'C:\\\\Users\\\\adsil\\\\Documents\\\\ShrekData\\\\SOC DAY3_5-3730_M_Trial1DLC_resnet50_topdown_homecage_novelobjectJul9shuffle1_190000.csv', 'C:\\\\Users\\\\adsil\\\\Documents\\\\ShrekData\\\\SOC DAY3_5-3730_M_Trial1DLC_resnet50_topdown_homecage_novelobjectJul9shuffle1_190000.h5', 'C:\\\\Users\\\\adsil\\\\Documents\\\\ShrekData\\\\SOC DAY3_5-3730_M_Trial1DLC_resnet50_topdown_homecage_novelobjectJul9shuffle1_190000_filtered.csv', 'C:\\\\Users\\\\adsil\\\\Documents\\\\ShrekData\\\\SOC DAY3_5-3730_M_Trial1DLC_resnet50_topdown_homecage_novelobjectJul9shuffle1_190000_filtered.h5', 'C:\\\\Users\\\\adsil\\\\Documents\\\\ShrekData\\\\SOC DAY3_5-3730_M_Trial1DLC_resnet50_topdown_homecage_novelobjectJul9shuffle1_190000_meta.pickle', 'C:\\\\Users\\\\adsil\\\\Documents\\\\ShrekData\\\\SOC DAY3_8-3733_M_Trial2.mp4', 'C:\\\\Users\\\\adsil\\\\Documents\\\\ShrekData\\\\SOC DAY3_8-3733_M_Trial2DLC_resnet50_topdown_homecage_novelobjectJul9shuffle1_190000.csv', 'C:\\\\Users\\\\adsil\\\\Documents\\\\ShrekData\\\\SOC DAY3_8-3733_M_Trial2DLC_resnet50_topdown_homecage_novelobjectJul9shuffle1_190000.h5', 'C:\\\\Users\\\\adsil\\\\Documents\\\\ShrekData\\\\SOC DAY3_8-3733_M_Trial2DLC_resnet50_topdown_homecage_novelobjectJul9shuffle1_190000_filtered.csv', 'C:\\\\Users\\\\adsil\\\\Documents\\\\ShrekData\\\\SOC DAY3_8-3733_M_Trial2DLC_resnet50_topdown_homecage_novelobjectJul9shuffle1_190000_filtered.h5', 'C:\\\\Users\\\\adsil\\\\Documents\\\\ShrekData\\\\SOC DAY3_8-3733_M_Trial2DLC_resnet50_topdown_homecage_novelobjectJul9shuffle1_190000_meta.pickle', 'C:\\\\Users\\\\adsil\\\\Documents\\\\ShrekData\\\\SOC DAY3_9-2657_F_Trial4.mp4', 'C:\\\\Users\\\\adsil\\\\Documents\\\\ShrekData\\\\SOC DAY3_9-2657_F_Trial4DLC_resnet50_topdown_homecage_novelobjectJul9shuffle1_190000.csv', 'C:\\\\Users\\\\adsil\\\\Documents\\\\ShrekData\\\\SOC DAY3_9-2657_F_Trial4DLC_resnet50_topdown_homecage_novelobjectJul9shuffle1_190000.h5', 'C:\\\\Users\\\\adsil\\\\Documents\\\\ShrekData\\\\SOC DAY3_9-2657_F_Trial4DLC_resnet50_topdown_homecage_novelobjectJul9shuffle1_190000_filtered.csv', 'C:\\\\Users\\\\adsil\\\\Documents\\\\ShrekData\\\\SOC DAY3_9-2657_F_Trial4DLC_resnet50_topdown_homecage_novelobjectJul9shuffle1_190000_filtered.h5', 'C:\\\\Users\\\\adsil\\\\Documents\\\\ShrekData\\\\SOC DAY3_9-2657_F_Trial4DLC_resnet50_topdown_homecage_novelobjectJul9shuffle1_190000_meta.pickle', 'C:\\\\Users\\\\adsil\\\\Documents\\\\ShrekData\\\\plot-poses\\\\SOC DAY3_1-3726_F_Trial5\\\\hist.png', 'C:\\\\Users\\\\adsil\\\\Documents\\\\ShrekData\\\\plot-poses\\\\SOC DAY3_1-3726_F_Trial5\\\\plot-likelihood.png', 'C:\\\\Users\\\\adsil\\\\Documents\\\\ShrekData\\\\plot-poses\\\\SOC DAY3_1-3726_F_Trial5\\\\plot.png', 'C:\\\\Users\\\\adsil\\\\Documents\\\\ShrekData\\\\plot-poses\\\\SOC DAY3_1-3726_F_Trial5\\\\trajectory.png', 'C:\\\\Users\\\\adsil\\\\Documents\\\\ShrekData\\\\plot-poses\\\\SOC DAY3_1-3938_F_Trial9\\\\hist.png', 'C:\\\\Users\\\\adsil\\\\Documents\\\\ShrekData\\\\plot-poses\\\\SOC DAY3_1-3938_F_Trial9\\\\plot-likelihood.png', 'C:\\\\Users\\\\adsil\\\\Documents\\\\ShrekData\\\\plot-poses\\\\SOC DAY3_1-3938_F_Trial9\\\\plot.png', 'C:\\\\Users\\\\adsil\\\\Documents\\\\ShrekData\\\\plot-poses\\\\SOC DAY3_1-3938_F_Trial9\\\\trajectory.png', 'C:\\\\Users\\\\adsil\\\\Documents\\\\ShrekData\\\\plot-poses\\\\SOC DAY3_2-2928_M_Trial3\\\\hist.png', 'C:\\\\Users\\\\adsil\\\\Documents\\\\ShrekData\\\\plot-poses\\\\SOC DAY3_2-2928_M_Trial3\\\\plot-likelihood.png', 'C:\\\\Users\\\\adsil\\\\Documents\\\\ShrekData\\\\plot-poses\\\\SOC DAY3_2-2928_M_Trial3\\\\plot.png', 'C:\\\\Users\\\\adsil\\\\Documents\\\\ShrekData\\\\plot-poses\\\\SOC DAY3_2-2928_M_Trial3\\\\trajectory.png', 'C:\\\\Users\\\\adsil\\\\Documents\\\\ShrekData\\\\plot-poses\\\\SOC DAY3_2-3939_F_Trial8\\\\hist.png', 'C:\\\\Users\\\\adsil\\\\Documents\\\\ShrekData\\\\plot-poses\\\\SOC DAY3_2-3939_F_Trial8\\\\plot-likelihood.png', 'C:\\\\Users\\\\adsil\\\\Documents\\\\ShrekData\\\\plot-poses\\\\SOC DAY3_2-3939_F_Trial8\\\\plot.png', 'C:\\\\Users\\\\adsil\\\\Documents\\\\ShrekData\\\\plot-poses\\\\SOC DAY3_2-3939_F_Trial8\\\\trajectory.png', 'C:\\\\Users\\\\adsil\\\\Documents\\\\ShrekData\\\\plot-poses\\\\SOC DAY3_3-3728_F_Trial6\\\\hist.png', 'C:\\\\Users\\\\adsil\\\\Documents\\\\ShrekData\\\\plot-poses\\\\SOC DAY3_3-3728_F_Trial6\\\\plot-likelihood.png', 'C:\\\\Users\\\\adsil\\\\Documents\\\\ShrekData\\\\plot-poses\\\\SOC DAY3_3-3728_F_Trial6\\\\plot.png', 'C:\\\\Users\\\\adsil\\\\Documents\\\\ShrekData\\\\plot-poses\\\\SOC DAY3_3-3728_F_Trial6\\\\trajectory.png', 'C:\\\\Users\\\\adsil\\\\Documents\\\\ShrekData\\\\plot-poses\\\\SOC DAY3_4-3729_F_Trial7\\\\hist.png', 'C:\\\\Users\\\\adsil\\\\Documents\\\\ShrekData\\\\plot-poses\\\\SOC DAY3_4-3729_F_Trial7\\\\plot-likelihood.png', 'C:\\\\Users\\\\adsil\\\\Documents\\\\ShrekData\\\\plot-poses\\\\SOC DAY3_4-3729_F_Trial7\\\\plot.png', 'C:\\\\Users\\\\adsil\\\\Documents\\\\ShrekData\\\\plot-poses\\\\SOC DAY3_4-3729_F_Trial7\\\\trajectory.png', 'C:\\\\Users\\\\adsil\\\\Documents\\\\ShrekData\\\\plot-poses\\\\SOC DAY3_5-3730_M_Trial1\\\\hist.png', 'C:\\\\Users\\\\adsil\\\\Documents\\\\ShrekData\\\\plot-poses\\\\SOC DAY3_5-3730_M_Trial1\\\\plot-likelihood.png', 'C:\\\\Users\\\\adsil\\\\Documents\\\\ShrekData\\\\plot-poses\\\\SOC DAY3_5-3730_M_Trial1\\\\plot.png', 'C:\\\\Users\\\\adsil\\\\Documents\\\\ShrekData\\\\plot-poses\\\\SOC DAY3_5-3730_M_Trial1\\\\trajectory.png', 'C:\\\\Users\\\\adsil\\\\Documents\\\\ShrekData\\\\plot-poses\\\\SOC DAY3_8-3733_M_Trial2\\\\hist.png', 'C:\\\\Users\\\\adsil\\\\Documents\\\\ShrekData\\\\plot-poses\\\\SOC DAY3_8-3733_M_Trial2\\\\plot-likelihood.png', 'C:\\\\Users\\\\adsil\\\\Documents\\\\ShrekData\\\\plot-poses\\\\SOC DAY3_8-3733_M_Trial2\\\\plot.png', 'C:\\\\Users\\\\adsil\\\\Documents\\\\ShrekData\\\\plot-poses\\\\SOC DAY3_8-3733_M_Trial2\\\\trajectory.png', 'C:\\\\Users\\\\adsil\\\\Documents\\\\ShrekData\\\\plot-poses\\\\SOC DAY3_9-2657_F_Trial4\\\\hist.png', 'C:\\\\Users\\\\adsil\\\\Documents\\\\ShrekData\\\\plot-poses\\\\SOC DAY3_9-2657_F_Trial4\\\\plot-likelihood.png', 'C:\\\\Users\\\\adsil\\\\Documents\\\\ShrekData\\\\plot-poses\\\\SOC DAY3_9-2657_F_Trial4\\\\plot.png', 'C:\\\\Users\\\\adsil\\\\Documents\\\\ShrekData\\\\plot-poses\\\\SOC DAY3_9-2657_F_Trial4\\\\trajectory.png']\n"
     ]
    }
   ],
   "source": [
    "data_files = analysis.list_files('')\n",
    "print(data_files)"
   ]
  },
  {
   "cell_type": "code",
   "execution_count": 5,
   "metadata": {},
   "outputs": [
    {
     "name": "stdout",
     "output_type": "stream",
     "text": [
      "Invalid number of treatments. Please enter exactly three treatments.\n"
     ]
    }
   ],
   "source": [
    "analysis.get_user_input()"
   ]
  },
  {
   "cell_type": "code",
   "execution_count": 8,
   "metadata": {},
   "outputs": [
    {
     "ename": "TypeError",
     "evalue": "get_treatments() missing 1 required positional argument: 'animal_id'",
     "output_type": "error",
     "traceback": [
      "\u001b[1;31m---------------------------------------------------------------------------\u001b[0m",
      "\u001b[1;31mTypeError\u001b[0m                                 Traceback (most recent call last)",
      "Cell \u001b[1;32mIn[8], line 1\u001b[0m\n\u001b[1;32m----> 1\u001b[0m \u001b[43manalysis\u001b[49m\u001b[38;5;241;43m.\u001b[39;49m\u001b[43mget_treatments\u001b[49m\u001b[43m(\u001b[49m\u001b[43m)\u001b[49m\n",
      "\u001b[1;31mTypeError\u001b[0m: get_treatments() missing 1 required positional argument: 'animal_id'"
     ]
    }
   ],
   "source": [
    "project_folder = r'C:\\Users\\adsil\\Documents\\ShrekData' #path to the folder containing the raw data to be analyzed (i.e. the folder containing the folders for each experiment)\n",
    "Usr = get_user_input(project_folder)"
   ]
  }
 ],
 "metadata": {
  "kernelspec": {
   "display_name": "DLC_SocialApproach",
   "language": "python",
   "name": "python3"
  },
  "language_info": {
   "codemirror_mode": {
    "name": "ipython",
    "version": 3
   },
   "file_extension": ".py",
   "mimetype": "text/x-python",
   "name": "python",
   "nbconvert_exporter": "python",
   "pygments_lexer": "ipython3",
   "version": "3.8.18"
  }
 },
 "nbformat": 4,
 "nbformat_minor": 2
}
